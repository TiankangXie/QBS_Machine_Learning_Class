{
 "cells": [
  {
   "cell_type": "markdown",
   "metadata": {},
   "source": [
    "# Applied Machine Learning HW1 Tiankang Xie"
   ]
  },
  {
   "cell_type": "code",
   "execution_count": 51,
   "metadata": {},
   "outputs": [
    {
     "name": "stdout",
     "output_type": "stream",
     "text": [
      "Training set:\n",
      "Confusion Matrix : \n",
      " [[85 15]\n",
      " [12 60]]\n",
      "Accuracy :  0.8430232558139535\n",
      "Sensitivity :  0.85\n",
      "Specificity :  0.8333333333333334\n",
      "F1 score :  0.8629441624365483\n",
      "-------------------------------------------\n",
      "Validation set:\n",
      "Confusion Matrix : \n",
      " [[16  5]\n",
      " [ 8 15]]\n",
      "Accuracy :  0.7045454545454546\n",
      "Sensitivity :  0.7619047619047619\n",
      "Specificity :  0.6521739130434783\n",
      "F1 score :  0.7111111111111111\n"
     ]
    }
   ],
   "source": [
    "import pandas as pd\n",
    "from sklearn.naive_bayes import GaussianNB\n",
    "from collections import Counter\n",
    "from sklearn.metrics import confusion_matrix\n",
    "import random\n",
    "import numpy as np\n",
    "\n",
    "#random.seed(3)\n",
    "model_nb = GaussianNB()\n",
    "\n",
    "train = pd.read_csv(\"F:\\SP2019\\hearttrain.csv\")\n",
    "test = pd.read_csv(\"F:\\SP2019\\heartval.csv\")\n",
    "final_test = pd.read_csv(\"F:\\SP2019\\hearttest.csv\")\n",
    "dummy_val = pd.get_dummies(test,columns = [\"2\",\"6\",\"12\"])\n",
    "dummy_train = pd.get_dummies(train, columns = [\"2\",\"6\",\"12\"])\n",
    "\n",
    "#Using dummy variables have reduced my accuracy result. By principles of machine learning I have decided not to use dummy variable.\n",
    "\n",
    "\n",
    "# Train the model using the training sets\n",
    "model_nb.fit(train.iloc[:,1:13], train.iloc[:,14])\n",
    "\n",
    "predicted_class1 = model_nb.predict(train.iloc[:,1:13])\n",
    "predicted_class2 = model_nb.predict(test.iloc[:,1:13])\n",
    "\n",
    "#display(model.theta_)\n",
    "#Predict Output\n",
    "\n",
    "\n",
    "def calculate_stats (predict, label):\n",
    "\n",
    "    cm1 = confusion_matrix(predict, label)\n",
    "    print('Confusion Matrix : \\n', cm1)\n",
    "    total1 = sum(sum(cm1))\n",
    "    accuracy1 = (cm1[0, 0] + cm1[1, 1]) / total1\n",
    "    print('Accuracy : ', accuracy1)\n",
    "    sensitivity1 = cm1[0, 0] / (cm1[0, 0] + cm1[0, 1])\n",
    "    print('Sensitivity : ', sensitivity1)\n",
    "    specificity1 = cm1[1, 1] / (cm1[1, 0] + cm1[1, 1])\n",
    "    print('Specificity : ', specificity1)\n",
    "    recall = cm1[0, 0] / (cm1[0, 0] + cm1[1, 0])\n",
    "    precision = cm1[0, 0] / (cm1[0, 0] + cm1[0, 1])\n",
    "    Fscore = 2 * precision * recall / (precision + recall)\n",
    "    print(\"F1 score : \", Fscore)\n",
    "    return\n",
    "\n",
    "#model1.predict_proba * model2.predict_proba\n",
    "print(\"Training set:\")\n",
    "calculate_stats(predicted_class1,train.iloc[:,14])\n",
    "print(\"-------------------------------------------\")\n",
    "print(\"Validation set:\")\n",
    "calculate_stats(predicted_class2,test.iloc[:,14])"
   ]
  },
  {
   "cell_type": "markdown",
   "metadata": {},
   "source": [
    "We frist have the formula for logistic regression: \n",
    "    $log \\frac{p}{1-p} = \\alpha + \\sum \\beta_i x_i$. The LCL function will be: $CL = \\sum log ( L(\\theta; y_i|x_i)) = \\sum log(L(y_i|x_i;\\theta)) = \\sum_{y_i=1} log(p_i) + \\sum_{y_i = 0} log(1-p_i)$ where log pi is equal to the probability of y being 1 and log(1-pi) is the probability of being 0. Then the MLE for LCL will just be the two terms differentiated by the parameters b_j. $\\frac{d}{d b_j} \\sum log p_i + \\frac{d}{d b_j} \\sum log (1-p_i)$ We know that $\\frac{d}{d b_j} log p_i = \\frac{1}{p_i} \\frac{d}{d b_j} p_i$.From the formula we can derive that $p_i = \\frac{1}{1+e^{-(\\alpha + \\sum \\beta_i x_i)}}$. If we set $m = e^{-(\\alpha + \\sum \\beta_i x_i)}$, then $p_i = \\frac{1}{1+m}$ and $1-p_i = \\frac{m}{1+m}$Then the previous derivative will be $\\frac{d}{d b_j} p_i = -(1+m)^{-2} \\frac{d}{db_j}m = -(1+m)^{-2}mx_i = p_i(1-p_i)x_i$ and thus $\\frac{d}{db_j} log(p_i) = (1-p_i)x_i$. Similarly we can find $\\frac{d}{d b_j} log(1-p_i) = -p_i$. Thus the overall formula for LCL is $\\frac{d}{db_j}LCL = \\sum_{y_i=1} (1-p_i)x_{i,j} + \\sum_{y_i=0} (-p_i)x_{i,j} = \\sum(y_i-p_i)x_{i,j}$. With regulation we have that \n",
    "    $\\frac{d}{d_{b_j}}(L(y_i|x_i;\\beta_j) + \\mu \\sum \\beta_j^2) = (y-p)x_j + 2 \\mu \\beta_j$, where mu is the constraining fatcor. For each feature j, the update function is defined as $b_j := b_j + \\lambda \\frac{d}{b_j}LCL = b_j + \\lambda (y_i-p_i)x_{i,j}$ With regularization we just add a regularization term to the end and it becomes $b_j := b_j + \\lambda (y_i-p_i)x_{i,j} + 2\\mu \\beta_j$"
   ]
  },
  {
   "cell_type": "code",
   "execution_count": 15,
   "metadata": {
    "scrolled": false
   },
   "outputs": [
    {
     "name": "stderr",
     "output_type": "stream",
     "text": [
      "C:\\ProgramData\\Anaconda3\\lib\\site-packages\\ipykernel_launcher.py:33: RuntimeWarning: invalid value encountered in double_scalars\n",
      "C:\\ProgramData\\Anaconda3\\lib\\site-packages\\ipykernel_launcher.py:33: RuntimeWarning: invalid value encountered in true_divide\n"
     ]
    },
    {
     "name": "stdout",
     "output_type": "stream",
     "text": [
      " \n",
      "lambda = 0\n",
      "Confusion Matrix : \n",
      " [[17  6]\n",
      " [ 7 14]]\n",
      "Accuracy :  0.7045454545454546\n",
      "Sensitivity :  0.7391304347826086\n",
      "Specificity :  0.6666666666666666\n",
      "F1 score :  0.723404255319149\n",
      " \n",
      "lambda = 0.001\n",
      "Confusion Matrix : \n",
      " [[17  6]\n",
      " [ 7 14]]\n",
      "Accuracy :  0.7045454545454546\n",
      "Sensitivity :  0.7391304347826086\n",
      "Specificity :  0.6666666666666666\n",
      "F1 score :  0.723404255319149\n",
      " \n",
      "lambda = 0.01\n",
      "Confusion Matrix : \n",
      " [[17  6]\n",
      " [ 7 14]]\n",
      "Accuracy :  0.7045454545454546\n",
      "Sensitivity :  0.7391304347826086\n",
      "Specificity :  0.6666666666666666\n",
      "F1 score :  0.723404255319149\n",
      " \n",
      "lambda = 0.1\n",
      "Confusion Matrix : \n",
      " [[16  5]\n",
      " [ 8 15]]\n",
      "Accuracy :  0.7045454545454546\n",
      "Sensitivity :  0.7619047619047619\n",
      "Specificity :  0.6521739130434783\n",
      "F1 score :  0.7111111111111111\n",
      " \n",
      "lambda = 1\n",
      "Confusion Matrix : \n",
      " [[ 5  0]\n",
      " [19 20]]\n",
      "Accuracy :  0.5681818181818182\n",
      "Sensitivity :  1.0\n",
      "Specificity :  0.5128205128205128\n",
      "F1 score :  0.3448275862068966\n"
     ]
    },
    {
     "data": {
      "image/png": "[encoded data removed]",
      "text/plain": [
       "<Figure size 432x288 with 1 Axes>"
      ]
     },
     "metadata": {
      "needs_background": "light"
     },
     "output_type": "display_data"
    },
    {
     "data": {
      "image/png": "[encoded data removed]",
      "text/plain": [
       "<Figure size 432x288 with 1 Axes>"
      ]
     },
     "metadata": {
      "needs_background": "light"
     },
     "output_type": "display_data"
    }
   ],
   "source": [
    "#random.seed(100)\n",
    "#Version with SGD\n",
    "import numpy as np\n",
    "import matplotlib.pyplot as plt\n",
    "import random\n",
    "import pandas as pd\n",
    "from random import shuffle\n",
    "from sklearn.utils import shuffle\n",
    "\n",
    "random.seed(300)\n",
    "\n",
    "# Train the model using the training sets\n",
    "def normalize(X): \n",
    "    ''' \n",
    "    function to normalize feature matrix, X \n",
    "    '''\n",
    "    mins = np.min(X, axis = 0) \n",
    "    maxs = np.max(X, axis = 0) \n",
    "    rng = maxs - mins \n",
    "    norm_X = 1 - ((maxs - X)/rng) \n",
    "    return norm_X\n",
    "\n",
    "train = pd.read_csv(\"F:\\SP2019\\hearttrain.csv\")\n",
    "test = pd.read_csv(\"F:\\SP2019\\heartval.csv\")\n",
    "train_x = train.iloc[:,1:13]\n",
    "train_y = train.iloc[:,14]\n",
    "test_x = test.iloc[:,1:13]\n",
    "test_y = test.iloc[:,14]\n",
    "\n",
    "def sigmoid(x):\n",
    "    return np.where(x >= 0,\n",
    "                    1 / (1 + np.exp(-x)) + 1,\n",
    "                    np.exp(x) / (1 + np.exp(x)) + 1)\n",
    "\n",
    "def logistic_regrssion(label, x, num_iter, learning_rate, lambd, ytest, xtest):\n",
    "    err_vec_train = np.zeros(num_iter)\n",
    "    err_vec_test = np.zeros(num_iter)\n",
    "    betas = np.zeros(x.shape[1]) + 0.02\n",
    "    x = normalize(x)\n",
    "    xtest = normalize(xtest)\n",
    "    \n",
    "    for i in range(num_iter):\n",
    "        idx = np.random.permutation(len(label))\n",
    "        xnew,y = x.loc[idx,:], label[idx]\n",
    "        #int = np.random.randint(0, len(label), 1)\n",
    "        for int in range(len(label)):\n",
    "            z = np.dot(xnew.loc[int,:], betas.T)\n",
    "            h = sigmoid(z)\n",
    "            for k in range(len(betas)):\n",
    "                gradient = x.iloc[int,k] * (h - y[int])\n",
    "                betas[k] -= learning_rate * (gradient - lambd*2*betas[k])\n",
    "\n",
    "        scores = np.dot(x,betas.T)\n",
    "        h = sigmoid(scores)\n",
    "        output_err = h - label\n",
    "\n",
    "        err_vec_train[i] = np.square(output_err).mean()\n",
    "\n",
    "        scores_test = np.dot(xtest,betas.T)\n",
    "        h_test = sigmoid(scores_test)\n",
    "        output_err_test = ytest - h_test\n",
    "        err_vec_test[i] = np.square(output_err_test).mean()\n",
    "\n",
    "    return (betas, err_vec_train, err_vec_test)\n",
    "\n",
    "\n",
    "[model,vec1,vec2] = logistic_regrssion(train_y,train_x,1000,0.0001,0,test_y,test_x)\n",
    "[model2,vec12,vec22] = logistic_regrssion(train_y,train_x,1000,0.0001,0.001,test_y,test_x)\n",
    "[model3,vec13,vec23] = logistic_regrssion(train_y,train_x,1000,0.0001,0.01,test_y,test_x)\n",
    "[model4,vec14,vec24] = logistic_regrssion(train_y,train_x,1000,0.0001,0.1,test_y,test_x)\n",
    "[model5,vec15,vec25] = logistic_regrssion(train_y,train_x,1000,0.0001,1,test_y,test_x)\n",
    "\n",
    "pred1 = np.round(sigmoid(np.dot(normalize(test_x),model)))\n",
    "pred2 = np.round(sigmoid(np.dot(normalize(test_x),model2)))\n",
    "pred3 = np.round(sigmoid(np.dot(normalize(test_x),model3)))\n",
    "pred4 = np.round(sigmoid(np.dot(normalize(test_x),model4)))\n",
    "pred5 = np.round(sigmoid(np.dot(normalize(test_x),model5)))\n",
    "\n",
    "\n",
    "print(\" \")\n",
    "print(\"lambda = 0\")\n",
    "calculate_stats(pred1,test_y)\n",
    "print(\" \")\n",
    "print(\"lambda = 0.001\")\n",
    "calculate_stats(pred2,test_y)\n",
    "print(\" \")\n",
    "print(\"lambda = 0.01\")\n",
    "calculate_stats(pred3,test_y)\n",
    "print(\" \")\n",
    "print(\"lambda = 0.1\")\n",
    "calculate_stats(pred4,test_y)\n",
    "print(\" \")\n",
    "print(\"lambda = 1\")\n",
    "calculate_stats(pred5,test_y)\n",
    "\n",
    "\n",
    "xnum = 1000\n",
    "# Plot\n",
    "plt.scatter(range(xnum), vec12)\n",
    "plt.title('Scatter plot for train error')\n",
    "plt.xlabel('x')\n",
    "plt.ylabel('y')\n",
    "plt.show()\n",
    "\n",
    "plt.scatter(range(xnum), vec22)\n",
    "plt.title('Scatter plot for test error')\n",
    "plt.xlabel('x')\n",
    "plt.ylabel('y')\n",
    "plt.show()\n"
   ]
  },
  {
   "cell_type": "markdown",
   "metadata": {},
   "source": [
    "I have chosen the second model ($\\lambda = 0.001$). This is because it performs decent overall in the model. To be honest the difference between 4 lambda values are minimal and the accuracy are due to chances. We do not want to overfit the model and if we choose the best one we may run the risk of overfitting. The result for the second is pretty decent. In addition the error rate for the it converges decently. In addition, the model does not have imbalanced sensitivty and specificty. Therefore considering both accuracy and overfit, I chose $\\lambda = 0.001$."
   ]
  },
  {
   "cell_type": "code",
   "execution_count": 52,
   "metadata": {},
   "outputs": [
    {
     "name": "stdout",
     "output_type": "stream",
     "text": [
      " \n",
      "Naiive Bayes\n",
      "Confusion Matrix : \n",
      " [[26  3]\n",
      " [ 3 22]]\n",
      "Accuracy :  0.8888888888888888\n",
      "Sensitivity :  0.896551724137931\n",
      "Specificity :  0.88\n",
      "F1 score :  0.896551724137931\n",
      " \n",
      "Logistc with best lambda\n",
      "Confusion Matrix : \n",
      " [[26  4]\n",
      " [ 3 21]]\n",
      "Accuracy :  0.8703703703703703\n",
      "Sensitivity :  0.8666666666666667\n",
      "Specificity :  0.875\n",
      "F1 score :  0.8813559322033899\n"
     ]
    }
   ],
   "source": [
    "final_test = pd.read_csv(\"F:\\SP2019\\hearttest.csv\")\n",
    "dummy_final_test = pd.get_dummies(final_test, columns = [\"2\",\"6\",\"12\"])\n",
    "\n",
    "predicted_naiive = model_nb.predict(final_test.iloc[:,1:13])\n",
    "print(\" \")\n",
    "print(\"Naiive Bayes\")\n",
    "calculate_stats(predicted_naiive,final_test.iloc[:,14])\n",
    "\n",
    "predicted_log = np.round(sigmoid(np.dot(normalize(final_test.iloc[:,1:13]),model2)))\n",
    "print(\" \")\n",
    "print(\"Logistc with best lambda\")\n",
    "calculate_stats(predicted_log,final_test.iloc[:,14])\n"
   ]
  },
  {
   "cell_type": "markdown",
   "metadata": {},
   "source": [
    "I think Naiive Bayes performs better than logistic regression overall. It is possible that with tuning we can achieve better result with logistic regression, however, the boring process of tuning actually reduces the utility of logistic regression. With Naiive Bayes we can achieve a decent result without tuning. Therefore Naiive Bayes is a better classifier in this context."
   ]
  }
 ],
 "metadata": {
  "kernelspec": {
   "display_name": "Python 3",
   "language": "python",
   "name": "python3"
  },
  "language_info": {
   "codemirror_mode": {
    "name": "ipython",
    "version": 3
   },
   "file_extension": ".py",
   "mimetype": "text/x-python",
   "name": "python",
   "nbconvert_exporter": "python",
   "pygments_lexer": "ipython3",
   "version": "3.7.1"
  }
 },
 "nbformat": 4,
 "nbformat_minor": 2
}
